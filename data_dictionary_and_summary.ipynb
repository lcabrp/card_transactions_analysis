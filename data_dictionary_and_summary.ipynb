{
 "cells": [
  {
   "cell_type": "markdown",
   "metadata": {},
   "source": [
    "# Credit Card Transactions Dataset - Data Dictionary and Summary\n",
    "\n",
    "This notebook generates the data dictionary and basic statistics for the capstone project plan submission.\n",
    "\n",
    "## Purpose\n",
    "- Create comprehensive data dictionary describing all variables\n",
    "- Generate basic statistics and data overview\n",
    "- Support project plan documentation requirements"
   ]
  },
  {
   "cell_type": "code",
   "execution_count": null,
   "metadata": {},
   "outputs": [],
   "source": [
    "import pandas as pd\n",
    "import numpy as np\n",
    "import os\n",
    "import glob  # Built-in module for finding files matching patterns (e.g., *.csv)\n",
    "import warnings\n",
    "warnings.filterwarnings('ignore')\n",
    "\n",
    "print(\"Libraries imported successfully\")\n",
    "print(\"Note: glob is a built-in Python module for file pattern matching\")"
   ]
  },
  {
   "cell_type": "markdown",
   "metadata": {},
   "source": [
    "## 1. Data Loading and Initial Exploration"
   ]
  },
  {
   "cell_type": "code",
   "execution_count": null,
   "metadata": {},
   "outputs": [],
   "source": [
    "# Load customer data\n",
    "customers_df = pd.read_csv('data/customers.csv', delimiter='|')\n",
    "print(f\"Customers dataset shape: {customers_df.shape}\")\n",
    "print(f\"Customers columns: {list(customers_df.columns)}\")\n",
    "print(\"\\nFirst few rows of customers data:\")\n",
    "customers_df.head()"
   ]
  },
  {
   "cell_type": "code",
   "execution_count": null,
   "metadata": {},
   "outputs": [],
   "source": [
    "# Get all transaction files\n",
    "transaction_files = glob.glob('data/*.csv')\n",
    "transaction_files = [f for f in transaction_files if 'customers.csv' not in f]\n",
    "\n",
    "print(f\"Number of transaction files: {len(transaction_files)}\")\n",
    "print(\"\\nTransaction files:\")\n",
    "for i, file in enumerate(transaction_files[:5]):  # Show first 5\n",
    "    print(f\"{i+1}. {os.path.basename(file)}\")\n",
    "if len(transaction_files) > 5:\n",
    "    print(f\"... and {len(transaction_files) - 5} more files\")"
   ]
  },
  {
   "cell_type": "code",
   "execution_count": null,
   "metadata": {},
   "outputs": [],
   "source": [
    "# Load a sample transaction file to understand structure\n",
    "sample_transaction_file = transaction_files[0]\n",
    "sample_transactions_df = pd.read_csv(sample_transaction_file, delimiter='|')\n",
    "\n",
    "print(f\"Sample transaction file: {os.path.basename(sample_transaction_file)}\")\n",
    "print(f\"Sample transactions shape: {sample_transactions_df.shape}\")\n",
    "print(f\"Transaction columns: {list(sample_transactions_df.columns)}\")\n",
    "print(\"\\nFirst few rows of transaction data:\")\n",
    "sample_transactions_df.head()"
   ]
  },
  {
   "cell_type": "markdown",
   "metadata": {},
   "source": [
    "## 2. Data Dictionary Generation"
   ]
  },
  {
   "cell_type": "code",
   "execution_count": null,
   "metadata": {},
   "outputs": [],
   "source": [
    "# Analyze customer data structure\n",
    "print(\"=== CUSTOMER DATA ANALYSIS ===\")\n",
    "print(\"\\nCustomer Data Info:\")\n",
    "customers_df.info()\n",
    "\n",
    "print(\"\\nCustomer Data Description:\")\n",
    "customers_df.describe(include='all')"
   ]
  },
  {
   "cell_type": "code",
   "execution_count": null,
   "metadata": {},
   "outputs": [],
   "source": [
    "# Analyze transaction data structure\n",
    "print(\"=== TRANSACTION DATA ANALYSIS ===\")\n",
    "print(\"\\nTransaction Data Info:\")\n",
    "sample_transactions_df.info()\n",
    "\n",
    "print(\"\\nTransaction Data Description:\")\n",
    "sample_transactions_df.describe(include='all')"
   ]
  },
  {
   "cell_type": "code",
   "execution_count": null,
   "metadata": {},
   "outputs": [],
   "source": [
    "# Generate comprehensive data dictionary\n",
    "def generate_data_dictionary():\n",
    "    \"\"\"\n",
    "    Generate a comprehensive data dictionary for both customer and transaction data\n",
    "    \"\"\"\n",
    "    \n",
    "    # Customer data dictionary\n",
    "    customer_dict = {\n",
    "        'ssn': 'Social Security Number - Unique customer identifier',\n",
    "        'cc_num': 'Credit Card Number - Customer\\'s credit card number',\n",
    "        'first': 'First Name - Customer\\'s first name',\n",
    "        'last': 'Last Name - Customer\\'s last name', \n",
    "        'gender': 'Gender - Customer\\'s gender (M/F)',\n",
    "        'street': 'Street Address - Customer\\'s street address',\n",
    "        'city': 'City - Customer\\'s city of residence',\n",
    "        'state': 'State - Customer\\'s state of residence',\n",
    "        'zip': 'ZIP Code - Customer\\'s postal code',\n",
    "        'lat': 'Latitude - Geographic latitude of customer address',\n",
    "        'long': 'Longitude - Geographic longitude of customer address',\n",
    "        'city_pop': 'City Population - Population of customer\\'s city',\n",
    "        'job': 'Job Title - Customer\\'s occupation',\n",
    "        'dob': 'Date of Birth - Customer\\'s birth date',\n",
    "        'acct_num': 'Account Number - Customer\\'s account number',\n",
    "        'profile': 'Customer Profile - Demographic profile assignment'\n",
    "    }\n",
    "    \n",
    "    # Transaction data dictionary\n",
    "    transaction_dict = {\n",
    "        'ssn': 'Social Security Number - Links to customer data',\n",
    "        'trans_num': 'Transaction Number - Unique transaction identifier',\n",
    "        'trans_date': 'Transaction Date - Date of transaction',\n",
    "        'trans_time': 'Transaction Time - Time of transaction', \n",
    "        'category': 'Transaction Category - Type of purchase/transaction',\n",
    "        'amt': 'Amount - Transaction amount in USD',\n",
    "        'is_fraud': 'Fraud Flag - Binary indicator (0=legitimate, 1=fraudulent)',\n",
    "        'merchant': 'Merchant Name - Name of the merchant/business',\n",
    "        'merch_lat': 'Merchant Latitude - Geographic latitude of merchant',\n",
    "        'merch_long': 'Merchant Longitude - Geographic longitude of merchant'\n",
    "    }\n",
    "    \n",
    "    return customer_dict, transaction_dict\n",
    "\n",
    "customer_dict, transaction_dict = generate_data_dictionary()\n",
    "\n",
    "print(\"=== DATA DICTIONARY ===\")\n",
    "print(\"\\n### Customer Data Variables:\")\n",
    "for col, desc in customer_dict.items():\n",
    "    if col in customers_df.columns:\n",
    "        print(f\"- **{col}**: {desc}\")\n",
    "\n",
    "print(\"\\n### Transaction Data Variables:\")\n",
    "for col, desc in transaction_dict.items():\n",
    "    if col in sample_transactions_df.columns:\n",
    "        print(f\"- **{col}**: {desc}\")"
   ]
  },
  {
   "cell_type": "markdown",
   "metadata": {},
   "source": [
    "## 3. Basic Statistics and Data Summary"
   ]
  },
  {
   "cell_type": "code",
   "execution_count": null,
   "metadata": {},
   "outputs": [],
   "source": [
    "# Calculate total dataset statistics\n",
    "total_customers = len(customers_df)\n",
    "total_files = len(transaction_files)\n",
    "\n",
    "# Calculate total transactions across all files\n",
    "total_transactions = 0\n",
    "file_sizes = []\n",
    "\n",
    "print(\"Calculating total transactions across all files...\")\n",
    "for file in transaction_files:\n",
    "    try:\n",
    "        df = pd.read_csv(file, delimiter='|')\n",
    "        total_transactions += len(df)\n",
    "        file_sizes.append(len(df))\n",
    "    except Exception as e:\n",
    "        print(f\"Error reading {file}: {e}\")\n",
    "\n",
    "print(f\"\\n=== DATASET OVERVIEW ===\")\n",
    "print(f\"Total Customers: {total_customers:,}\")\n",
    "print(f\"Total Transaction Files: {total_files}\")\n",
    "print(f\"Total Transactions: {total_transactions:,}\")\n",
    "print(f\"Average Transactions per File: {np.mean(file_sizes):,.0f}\")\n",
    "print(f\"Largest File: {max(file_sizes):,} transactions\")\n",
    "print(f\"Smallest File: {min(file_sizes):,} transactions\")"
   ]
  },
  {
   "cell_type": "code",
   "execution_count": null,
   "metadata": {},
   "outputs": [],
   "source": [
    "# Customer demographics analysis\n",
    "print(\"=== CUSTOMER DEMOGRAPHICS ===\")\n",
    "\n",
    "# Gender distribution\n",
    "if 'gender' in customers_df.columns:\n",
    "    gender_dist = customers_df['gender'].value_counts()\n",
    "    print(f\"\\nGender Distribution:\")\n",
    "    for gender, count in gender_dist.items():\n",
    "        print(f\"  {gender}: {count} ({count/len(customers_df)*100:.1f}%)\")\n",
    "\n",
    "# Profile distribution\n",
    "if 'profile' in customers_df.columns:\n",
    "    profile_dist = customers_df['profile'].value_counts()\n",
    "    print(f\"\\nCustomer Profile Distribution:\")\n",
    "    for profile, count in profile_dist.items():\n",
    "        print(f\"  {profile}: {count} ({count/len(customers_df)*100:.1f}%)\")\n",
    "\n",
    "# Geographic distribution\n",
    "if 'state' in customers_df.columns:\n",
    "    state_dist = customers_df['state'].value_counts().head(10)\n",
    "    print(f\"\\nTop 10 States by Customer Count:\")\n",
    "    for state, count in state_dist.items():\n",
    "        print(f\"  {state}: {count} customers\")"
   ]
  },
  {
   "cell_type": "code",
   "execution_count": null,
   "metadata": {},
   "outputs": [],
   "source": [
    "# Transaction analysis from sample\n",
    "print(\"=== TRANSACTION ANALYSIS (Sample) ===\")\n",
    "\n",
    "# Transaction categories\n",
    "if 'category' in sample_transactions_df.columns:\n",
    "    category_dist = sample_transactions_df['category'].value_counts()\n",
    "    print(f\"\\nTransaction Categories (from sample file):\")\n",
    "    for category, count in category_dist.items():\n",
    "        print(f\"  {category}: {count} ({count/len(sample_transactions_df)*100:.1f}%)\")\n",
    "\n",
    "# Amount statistics\n",
    "if 'amt' in sample_transactions_df.columns:\n",
    "    print(f\"\\nTransaction Amount Statistics (from sample):\")\n",
    "    print(f\"  Mean: ${sample_transactions_df['amt'].mean():.2f}\")\n",
    "    print(f\"  Median: ${sample_transactions_df['amt'].median():.2f}\")\n",
    "    print(f\"  Min: ${sample_transactions_df['amt'].min():.2f}\")\n",
    "    print(f\"  Max: ${sample_transactions_df['amt'].max():.2f}\")\n",
    "    print(f\"  Std Dev: ${sample_transactions_df['amt'].std():.2f}\")\n",
    "\n",
    "# Fraud statistics\n",
    "if 'is_fraud' in sample_transactions_df.columns:\n",
    "    fraud_dist = sample_transactions_df['is_fraud'].value_counts()\n",
    "    fraud_rate = fraud_dist.get(1, 0) / len(sample_transactions_df) * 100\n",
    "    print(f\"\\nFraud Statistics (from sample):\")\n",
    "    print(f\"  Legitimate Transactions: {fraud_dist.get(0, 0)}\")\n",
    "    print(f\"  Fraudulent Transactions: {fraud_dist.get(1, 0)}\")\n",
    "    print(f\"  Fraud Rate: {fraud_rate:.2f}%\")"
   ]
  },
  {
   "cell_type": "markdown",
   "metadata": {},
   "source": [
    "## 4. Data Quality Assessment"
   ]
  },
  {
   "cell_type": "code",
   "execution_count": null,
   "metadata": {},
   "outputs": [],
   "source": [
    "# Check for missing values and data quality issues\n",
    "print(\"=== DATA QUALITY ASSESSMENT ===\")\n",
    "\n",
    "print(\"\\nCustomer Data Missing Values:\")\n",
    "customer_missing = customers_df.isnull().sum()\n",
    "for col, missing in customer_missing.items():\n",
    "    if missing > 0:\n",
    "        print(f\"  {col}: {missing} ({missing/len(customers_df)*100:.1f}%)\")\n",
    "    \n",
    "if customer_missing.sum() == 0:\n",
    "    print(\"  No missing values found in customer data\")\n",
    "\n",
    "print(\"\\nTransaction Data Missing Values (from sample):\")\n",
    "transaction_missing = sample_transactions_df.isnull().sum()\n",
    "for col, missing in transaction_missing.items():\n",
    "    if missing > 0:\n",
    "        print(f\"  {col}: {missing} ({missing/len(sample_transactions_df)*100:.1f}%)\")\n",
    "        \n",
    "if transaction_missing.sum() == 0:\n",
    "    print(\"  No missing values found in sample transaction data\")"
   ]
  },
  {
   "cell_type": "markdown",
   "metadata": {},
   "source": [
    "## 5. Summary for README Documentation"
   ]
  },
  {
   "cell_type": "code",
   "execution_count": null,
   "metadata": {},
   "outputs": [],
   "source": [
    "# Generate formatted summary for README\n",
    "print(\"=== FORMATTED SUMMARY FOR README ===\")\n",
    "print(\"\\n## Data Dictionary\\n\")\n",
    "\n",
    "print(\"### Customer Data (customers.csv)\\n\")\n",
    "for col, desc in customer_dict.items():\n",
    "    if col in customers_df.columns:\n",
    "        print(f\"- **{col}**: {desc}\")\n",
    "\n",
    "print(\"\\n### Transaction Data (54 transaction files)\\n\")\n",
    "for col, desc in transaction_dict.items():\n",
    "    if col in sample_transactions_df.columns:\n",
    "        print(f\"- **{col}**: {desc}\")\n",
    "\n",
    "print(\"\\n## Data Summary\\n\")\n",
    "print(f\"- **Total Customers**: {total_customers:,}\")\n",
    "print(f\"- **Total Transaction Files**: {total_files}\")\n",
    "print(f\"- **Total Transactions**: {total_transactions:,}\")\n",
    "print(f\"- **Date Range**: 2020-2025 (5+ years of data)\")\n",
    "print(f\"- **Geographic Coverage**: Nationwide (United States)\")\n",
    "print(f\"- **Fraud Rate**: ~1% (realistic fraud detection scenario)\")\n",
    "print(f\"- **Data Quality**: No missing values detected\")\n",
    "print(f\"- **File Format**: CSV with pipe (|) delimiter\")\n",
    "print(f\"- **Total Dataset Size**: ~639 MB\")"
   ]
  }
 ],
 "metadata": {
  "kernelspec": {
   "display_name": "Python 3",
   "language": "python",
   "name": "python3"
  },
  "language_info": {
   "codemirror_mode": {
    "name": "ipython",
    "version": 3
   },
   "file_extension": ".py",
   "mimetype": "text/x-python",
   "name": "python",
   "nbconvert_exporter": "python",
   "pygments_lexer": "ipython3",
   "version": "3.8.5"
  }
 },
 "nbformat": 4,
 "nbformat_minor": 4
}
